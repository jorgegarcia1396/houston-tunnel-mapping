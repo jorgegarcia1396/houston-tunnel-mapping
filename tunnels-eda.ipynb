{
 "cells": [
  {
   "cell_type": "markdown",
   "metadata": {},
   "source": [
    "# Houston Tunnel Mapping System (EDA)\n",
    "\n",
    "Perform exploratory data analysis (EDA) on the Houston Tunnel GIS data."
   ]
  },
  {
   "cell_type": "code",
   "execution_count": 1,
   "metadata": {},
   "outputs": [],
   "source": [
    "import geopandas as gpd\n",
    "import numpy as np\n",
    "import matplotlib.pyplot as plt"
   ]
  },
  {
   "cell_type": "code",
   "execution_count": 2,
   "metadata": {},
   "outputs": [
    {
     "data": {
      "text/html": [
       "<div>\n",
       "<style scoped>\n",
       "    .dataframe tbody tr th:only-of-type {\n",
       "        vertical-align: middle;\n",
       "    }\n",
       "\n",
       "    .dataframe tbody tr th {\n",
       "        vertical-align: top;\n",
       "    }\n",
       "\n",
       "    .dataframe thead th {\n",
       "        text-align: right;\n",
       "    }\n",
       "</style>\n",
       "<table border=\"1\" class=\"dataframe\">\n",
       "  <thead>\n",
       "    <tr style=\"text-align: right;\">\n",
       "      <th></th>\n",
       "      <th>objectid</th>\n",
       "      <th>id</th>\n",
       "      <th>street</th>\n",
       "      <th>name</th>\n",
       "      <th>shape_stle</th>\n",
       "      <th>globalid</th>\n",
       "      <th>created_user</th>\n",
       "      <th>created_date</th>\n",
       "      <th>last_edited_user</th>\n",
       "      <th>last_edited_date</th>\n",
       "      <th>Shape__Length</th>\n",
       "      <th>geometry</th>\n",
       "    </tr>\n",
       "  </thead>\n",
       "  <tbody>\n",
       "    <tr>\n",
       "      <th>0</th>\n",
       "      <td>1</td>\n",
       "      <td>0</td>\n",
       "      <td></td>\n",
       "      <td>W. Walker</td>\n",
       "      <td>1142.962317</td>\n",
       "      <td>bdaf390d-5d03-4947-a5ad-75c0f20d56c6</td>\n",
       "      <td>HPDGIS</td>\n",
       "      <td>1635262453078</td>\n",
       "      <td>HPDGIS</td>\n",
       "      <td>1635262453078</td>\n",
       "      <td>2051.765223</td>\n",
       "      <td>MULTILINESTRING ((-95.36945 29.76004, -95.3693...</td>\n",
       "    </tr>\n",
       "    <tr>\n",
       "      <th>1</th>\n",
       "      <td>5</td>\n",
       "      <td>0</td>\n",
       "      <td></td>\n",
       "      <td>Tunnel Loop</td>\n",
       "      <td>2747.780742</td>\n",
       "      <td>c851fb42-0f7b-437b-b227-1e9a3a2df0cc</td>\n",
       "      <td>HPDGIS</td>\n",
       "      <td>1635262453078</td>\n",
       "      <td>HPDGIS</td>\n",
       "      <td>1635262453078</td>\n",
       "      <td>2747.780742</td>\n",
       "      <td>LINESTRING (-95.36678 29.75949, -95.36697 29.7...</td>\n",
       "    </tr>\n",
       "    <tr>\n",
       "      <th>2</th>\n",
       "      <td>7</td>\n",
       "      <td>0</td>\n",
       "      <td></td>\n",
       "      <td>N. Louisiana</td>\n",
       "      <td>1828.483435</td>\n",
       "      <td>ff2d7be6-733f-4620-80c8-656bcb144532</td>\n",
       "      <td>HPDGIS</td>\n",
       "      <td>1635262453078</td>\n",
       "      <td>HPDGIS</td>\n",
       "      <td>1635262453078</td>\n",
       "      <td>4687.772674</td>\n",
       "      <td>MULTILINESTRING ((-95.36653 29.75943, -95.3664...</td>\n",
       "    </tr>\n",
       "    <tr>\n",
       "      <th>3</th>\n",
       "      <td>8</td>\n",
       "      <td>0</td>\n",
       "      <td></td>\n",
       "      <td>N. Travis</td>\n",
       "      <td>1001.174595</td>\n",
       "      <td>35cd96dc-a377-4347-8ea8-70c20b3e5bcb</td>\n",
       "      <td>HPDGIS</td>\n",
       "      <td>1635262453078</td>\n",
       "      <td>HPDGIS</td>\n",
       "      <td>1635262453078</td>\n",
       "      <td>3288.383734</td>\n",
       "      <td>MULTILINESTRING ((-95.36528 29.75872, -95.3650...</td>\n",
       "    </tr>\n",
       "    <tr>\n",
       "      <th>4</th>\n",
       "      <td>12</td>\n",
       "      <td>0</td>\n",
       "      <td></td>\n",
       "      <td>S. Louisiana</td>\n",
       "      <td>784.170262</td>\n",
       "      <td>8ee89412-1ff2-401a-9455-7f784bbba8f7</td>\n",
       "      <td>HPDGIS</td>\n",
       "      <td>1635262453078</td>\n",
       "      <td>HPDGIS</td>\n",
       "      <td>1635262453078</td>\n",
       "      <td>6093.028881</td>\n",
       "      <td>MULTILINESTRING ((-95.36781 29.75781, -95.3686...</td>\n",
       "    </tr>\n",
       "  </tbody>\n",
       "</table>\n",
       "</div>"
      ],
      "text/plain": [
       "   objectid  id street          name   shape_stle  \\\n",
       "0         1   0            W. Walker  1142.962317   \n",
       "1         5   0          Tunnel Loop  2747.780742   \n",
       "2         7   0         N. Louisiana  1828.483435   \n",
       "3         8   0            N. Travis  1001.174595   \n",
       "4        12   0         S. Louisiana   784.170262   \n",
       "\n",
       "                               globalid created_user   created_date  \\\n",
       "0  bdaf390d-5d03-4947-a5ad-75c0f20d56c6       HPDGIS  1635262453078   \n",
       "1  c851fb42-0f7b-437b-b227-1e9a3a2df0cc       HPDGIS  1635262453078   \n",
       "2  ff2d7be6-733f-4620-80c8-656bcb144532       HPDGIS  1635262453078   \n",
       "3  35cd96dc-a377-4347-8ea8-70c20b3e5bcb       HPDGIS  1635262453078   \n",
       "4  8ee89412-1ff2-401a-9455-7f784bbba8f7       HPDGIS  1635262453078   \n",
       "\n",
       "  last_edited_user  last_edited_date  Shape__Length  \\\n",
       "0           HPDGIS     1635262453078    2051.765223   \n",
       "1           HPDGIS     1635262453078    2747.780742   \n",
       "2           HPDGIS     1635262453078    4687.772674   \n",
       "3           HPDGIS     1635262453078    3288.383734   \n",
       "4           HPDGIS     1635262453078    6093.028881   \n",
       "\n",
       "                                            geometry  \n",
       "0  MULTILINESTRING ((-95.36945 29.76004, -95.3693...  \n",
       "1  LINESTRING (-95.36678 29.75949, -95.36697 29.7...  \n",
       "2  MULTILINESTRING ((-95.36653 29.75943, -95.3664...  \n",
       "3  MULTILINESTRING ((-95.36528 29.75872, -95.3650...  \n",
       "4  MULTILINESTRING ((-95.36781 29.75781, -95.3686...  "
      ]
     },
     "execution_count": 2,
     "metadata": {},
     "output_type": "execute_result"
    }
   ],
   "source": [
    "tunnels = gpd.read_file('tunnels.geojson', engine='pyogrio')\n",
    "tunnels.head()"
   ]
  },
  {
   "cell_type": "code",
   "execution_count": 3,
   "metadata": {},
   "outputs": [
    {
     "data": {
      "text/plain": [
       "10"
      ]
     },
     "execution_count": 3,
     "metadata": {},
     "output_type": "execute_result"
    }
   ],
   "source": [
    "tunnels['name'].count()"
   ]
  },
  {
   "cell_type": "code",
   "execution_count": 4,
   "metadata": {},
   "outputs": [
    {
     "data": {
      "image/png": "[encoded data removed]",
      "text/plain": [
       "<Figure size 720x720 with 1 Axes>"
      ]
     },
     "metadata": {
      "needs_background": "light"
     },
     "output_type": "display_data"
    }
   ],
   "source": [
    "tunnels.plot(figsize=(10,10), column='name')\n",
    "plt.show()"
   ]
  },
  {
   "cell_type": "code",
   "execution_count": 5,
   "metadata": {},
   "outputs": [
    {
     "data": {
      "text/html": [
       "<div>\n",
       "<style scoped>\n",
       "    .dataframe tbody tr th:only-of-type {\n",
       "        vertical-align: middle;\n",
       "    }\n",
       "\n",
       "    .dataframe tbody tr th {\n",
       "        vertical-align: top;\n",
       "    }\n",
       "\n",
       "    .dataframe thead th {\n",
       "        text-align: right;\n",
       "    }\n",
       "</style>\n",
       "<table border=\"1\" class=\"dataframe\">\n",
       "  <thead>\n",
       "    <tr style=\"text-align: right;\">\n",
       "      <th></th>\n",
       "      <th>name</th>\n",
       "      <th>Shape__Length</th>\n",
       "      <th>footage</th>\n",
       "    </tr>\n",
       "  </thead>\n",
       "  <tbody>\n",
       "    <tr>\n",
       "      <th>0</th>\n",
       "      <td>W. Walker</td>\n",
       "      <td>2051.765223</td>\n",
       "      <td>2052.501395</td>\n",
       "    </tr>\n",
       "    <tr>\n",
       "      <th>1</th>\n",
       "      <td>Tunnel Loop</td>\n",
       "      <td>2747.780742</td>\n",
       "      <td>2748.764421</td>\n",
       "    </tr>\n",
       "    <tr>\n",
       "      <th>2</th>\n",
       "      <td>N. Louisiana</td>\n",
       "      <td>4687.772674</td>\n",
       "      <td>4689.448767</td>\n",
       "    </tr>\n",
       "    <tr>\n",
       "      <th>3</th>\n",
       "      <td>N. Travis</td>\n",
       "      <td>3288.383734</td>\n",
       "      <td>3289.555027</td>\n",
       "    </tr>\n",
       "    <tr>\n",
       "      <th>4</th>\n",
       "      <td>S. Louisiana</td>\n",
       "      <td>6093.028881</td>\n",
       "      <td>6095.227981</td>\n",
       "    </tr>\n",
       "    <tr>\n",
       "      <th>5</th>\n",
       "      <td>W. Dallas</td>\n",
       "      <td>3932.258388</td>\n",
       "      <td>3933.674946</td>\n",
       "    </tr>\n",
       "    <tr>\n",
       "      <th>6</th>\n",
       "      <td>E. McKinney</td>\n",
       "      <td>6123.856238</td>\n",
       "      <td>6126.038590</td>\n",
       "    </tr>\n",
       "    <tr>\n",
       "      <th>7</th>\n",
       "      <td>Harris County</td>\n",
       "      <td>2838.693581</td>\n",
       "      <td>2839.696459</td>\n",
       "    </tr>\n",
       "    <tr>\n",
       "      <th>8</th>\n",
       "      <td>Rusk</td>\n",
       "      <td>1230.002201</td>\n",
       "      <td>1230.440936</td>\n",
       "    </tr>\n",
       "    <tr>\n",
       "      <th>9</th>\n",
       "      <td>Lamar</td>\n",
       "      <td>3003.339136</td>\n",
       "      <td>3004.412333</td>\n",
       "    </tr>\n",
       "  </tbody>\n",
       "</table>\n",
       "</div>"
      ],
      "text/plain": [
       "            name  Shape__Length      footage\n",
       "0      W. Walker    2051.765223  2052.501395\n",
       "1    Tunnel Loop    2747.780742  2748.764421\n",
       "2   N. Louisiana    4687.772674  4689.448767\n",
       "3      N. Travis    3288.383734  3289.555027\n",
       "4   S. Louisiana    6093.028881  6095.227981\n",
       "5      W. Dallas    3932.258388  3933.674946\n",
       "6    E. McKinney    6123.856238  6126.038590\n",
       "7  Harris County    2838.693581  2839.696459\n",
       "8           Rusk    1230.002201  1230.440936\n",
       "9          Lamar    3003.339136  3004.412333"
      ]
     },
     "execution_count": 5,
     "metadata": {},
     "output_type": "execute_result"
    }
   ],
   "source": [
    "# Calculate the distance in meters and feet for UTM 15N (EPSG:32615)\n",
    "\n",
    "meters = tunnels.to_crs('EPSG:32615').length\n",
    "footage = meters * 3.2808399\n",
    "\n",
    "tunnels['footage'] = footage\n",
    "\n",
    "tunnels[['name', 'Shape__Length', 'footage']]"
   ]
  },
  {
   "cell_type": "code",
   "execution_count": 6,
   "metadata": {},
   "outputs": [
    {
     "data": {
      "text/plain": [
       "6.817591060077902"
      ]
     },
     "execution_count": 6,
     "metadata": {},
     "output_type": "execute_result"
    }
   ],
   "source": [
    "# Calculate total miles of tunnels\n",
    "\n",
    "tunnels['Shape__Length'].sum() / 5280"
   ]
  },
  {
   "cell_type": "code",
   "execution_count": 7,
   "metadata": {},
   "outputs": [
    {
     "data": {
      "text/plain": [
       "6.820030464736701"
      ]
     },
     "execution_count": 7,
     "metadata": {},
     "output_type": "execute_result"
    }
   ],
   "source": [
    "tunnels['footage'].sum() / 5280"
   ]
  }
 ],
 "metadata": {
  "kernelspec": {
   "display_name": "Python 3",
   "language": "python",
   "name": "python3"
  },
  "language_info": {
   "codemirror_mode": {
    "name": "ipython",
    "version": 3
   },
   "file_extension": ".py",
   "mimetype": "text/x-python",
   "name": "python",
   "nbconvert_exporter": "python",
   "pygments_lexer": "ipython3",
   "version": "3.9.12"
  }
 },
 "nbformat": 4,
 "nbformat_minor": 2
}
